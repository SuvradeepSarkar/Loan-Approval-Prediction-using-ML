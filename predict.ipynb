{
 "cells": [
  {
   "cell_type": "code",
   "execution_count": 10,
   "metadata": {},
   "outputs": [
    {
     "name": "stdout",
     "output_type": "stream",
     "text": [
      "1\n"
     ]
    }
   ],
   "source": [
    "import pickle\n",
    "with open(\"model.pkl\",'rb') as file:\n",
    "    model = pickle.load(file)\n",
    "data=[[0.47374983,  0.71143163, -0.76304669, -0.53102197,  0.29835867,\n",
    "        0.41790088,  0.03484798,  0.29186348]]\n",
    "y=model.predict(data)[0]\n",
    "print(y)"
   ]
  },
  {
   "cell_type": "code",
   "execution_count": 11,
   "metadata": {},
   "outputs": [
    {
     "name": "stdout",
     "output_type": "stream",
     "text": [
      "[0]\n"
     ]
    }
   ],
   "source": [
    "from sklearn.preprocessing import LabelEncoder\n",
    "import numpy as np\n",
    "\n",
    "Labelencoder_x=LabelEncoder()\n",
    "\n",
    "data11 = np.array(['Female', 'No', '2', 'Graduate', 700.0, 1.0, 4.857444178729352,\n",
    "       5849.0])\n",
    "\n",
    "\n",
    "y1=model.predict(encoded_data.reshape(1, 8))\n",
    "print(y1)"
   ]
  },
  {
   "cell_type": "markdown",
   "metadata": {},
   "source": [
    "gender,married,dependents,education,loan amount term,credithistory,loan amount log, total income log"
   ]
  }
 ],
 "metadata": {
  "kernelspec": {
   "display_name": "Python 3 (ipykernel)",
   "language": "python",
   "name": "python3"
  },
  "language_info": {
   "codemirror_mode": {
    "name": "ipython",
    "version": 3
   },
   "file_extension": ".py",
   "mimetype": "text/x-python",
   "name": "python",
   "nbconvert_exporter": "python",
   "pygments_lexer": "ipython3",
   "version": "3.11.5"
  }
 },
 "nbformat": 4,
 "nbformat_minor": 2
}
